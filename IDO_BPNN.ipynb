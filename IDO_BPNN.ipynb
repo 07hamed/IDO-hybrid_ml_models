{
  "nbformat": 4,
  "nbformat_minor": 0,
  "metadata": {
    "colab": {
      "provenance": []
    },
    "kernelspec": {
      "name": "python3",
      "display_name": "Python 3"
    },
    "language_info": {
      "name": "python"
    }
  },
  "cells": [
    {
      "cell_type": "code",
      "source": [
        "from google.colab import drive\n",
        "drive.mount('/content/drive')"
      ],
      "metadata": {
        "colab": {
          "base_uri": "https://localhost:8080/"
        },
        "id": "F0yUs3ERAGuR",
        "outputId": "ddaca545-374f-4a71-fd6b-e4bdb1ed3f22"
      },
      "execution_count": null,
      "outputs": [
        {
          "output_type": "stream",
          "name": "stdout",
          "text": [
            "Drive already mounted at /content/drive; to attempt to forcibly remount, call drive.mount(\"/content/drive\", force_remount=True).\n"
          ]
        }
      ]
    },
    {
      "cell_type": "code",
      "source": [
        "pip install deap"
      ],
      "metadata": {
        "colab": {
          "base_uri": "https://localhost:8080/"
        },
        "id": "IxIae8dyBBGn",
        "outputId": "25c90ef9-61aa-4eb1-81d9-d43abc827817"
      },
      "execution_count": null,
      "outputs": [
        {
          "output_type": "stream",
          "name": "stdout",
          "text": [
            "Collecting deap\n",
            "  Downloading deap-1.4.1-cp310-cp310-manylinux_2_5_x86_64.manylinux1_x86_64.manylinux_2_17_x86_64.manylinux2014_x86_64.whl (135 kB)\n",
            "\u001b[?25l     \u001b[90m━━━━━━━━━━━━━━━━━━━━━━━━━━━━━━━━━━━━━━━━\u001b[0m \u001b[32m0.0/135.4 kB\u001b[0m \u001b[31m?\u001b[0m eta \u001b[36m-:--:--\u001b[0m\r\u001b[2K     \u001b[90m━━━━━━━━━━━━━━━━━━━━━━━━━━━━━━━━━━━━━━━\u001b[0m \u001b[32m135.4/135.4 kB\u001b[0m \u001b[31m3.9 MB/s\u001b[0m eta \u001b[36m0:00:00\u001b[0m\n",
            "\u001b[?25hRequirement already satisfied: numpy in /usr/local/lib/python3.10/dist-packages (from deap) (1.23.5)\n",
            "Installing collected packages: deap\n",
            "Successfully installed deap-1.4.1\n"
          ]
        }
      ]
    },
    {
      "cell_type": "code",
      "source": [],
      "metadata": {
        "id": "i9r6pyqpTB_X"
      },
      "execution_count": null,
      "outputs": []
    },
    {
      "cell_type": "markdown",
      "source": [
        "# GA_BPNN 2 param"
      ],
      "metadata": {
        "id": "kQ2YD5zCTChi"
      }
    },
    {
      "cell_type": "code",
      "source": [
        "import numpy as np\n",
        "import pandas as pd\n",
        "from sklearn.model_selection import train_test_split\n",
        "from sklearn.preprocessing import MinMaxScaler\n",
        "from tensorflow.keras.models import Sequential\n",
        "from tensorflow.keras.layers import Dense\n",
        "from tensorflow.keras.optimizers import Adam\n",
        "from deap import base, creator, tools, algorithms\n",
        "\n",
        "# Load your dataset (assuming it's in a CSV file)\n",
        "df = pd.read_csv('/content/nep1 (3).csv')\n",
        "\n",
        "# Extract features (temperature, humidity, precipitation, solar radiation) and target (influenza confirmed cases)\n",
        "X = df[['tem', 'hum', 'pre', 'rad']].values\n",
        "y = df['ConfirmedCases'].values\n",
        "\n",
        "# Normalize features to the range [0, 1] using Min-Max scaling\n",
        "scaler = MinMaxScaler()\n",
        "X = scaler.fit_transform(X)\n",
        "\n",
        "# Split the data into training and testing sets\n",
        "X_train, X_test, y_train, y_test = train_test_split(X, y, test_size=0.2, random_state=42)\n",
        "\n",
        "# Define a fitness function to optimize\n",
        "def fitness_function(individual):\n",
        "    learning_rate, num_neurons = individual\n",
        "    model = Sequential()\n",
        "    model.add(Dense(num_neurons, activation='relu', input_shape=(X_train.shape[1],)))\n",
        "    model.add(Dense(32, activation='relu'))\n",
        "    model.add(Dense(16, activation='linear'))\n",
        "    model.add(Dense(1, activation='linear'))\n",
        "    optimizer = Adam(learning_rate=learning_rate)\n",
        "    model.compile(optimizer=optimizer, loss='mean_squared_error')\n",
        "    history = model.fit(X_train, y_train, epochs=100, batch_size=32, validation_split=0.2, verbose=0)\n",
        "    loss = model.evaluate(X_test, y_test, verbose=0)\n",
        "    return loss,\n",
        "\n",
        "# Define the genetic algorithm parameters\n",
        "creator.create(\"FitnessMin\", base.Fitness, weights=(-1.0,))\n",
        "creator.create(\"Individual\", list, fitness=creator.FitnessMin)\n",
        "\n",
        "toolbox = base.Toolbox()\n",
        "toolbox.register(\"attr_float\", np.random.uniform, 0.0001, 0.1)  # Learning rate\n",
        "toolbox.register(\"attr_int\", np.random.randint, 8, 128)  # Number of neurons\n",
        "toolbox.register(\"individual\", tools.initCycle, creator.Individual, (toolbox.attr_float, toolbox.attr_int), n=1)\n",
        "toolbox.register(\"population\", tools.initRepeat, list, toolbox.individual)\n",
        "\n",
        "toolbox.register(\"evaluate\", fitness_function)\n",
        "toolbox.register(\"mate\", tools.cxBlend, alpha=0.5)\n",
        "toolbox.register(\"mutate\", tools.mutGaussian, mu=0, sigma=0.1, indpb=0.2)\n",
        "toolbox.register(\"select\", tools.selTournament, tournsize=3)\n",
        "\n",
        "if __name__ == \"__main__\":\n",
        "    population_size = 10\n",
        "    num_generations = 10\n",
        "\n",
        "    population = toolbox.population(n=population_size)\n",
        "    algorithms.eaMuPlusLambda(population, toolbox, mu=population_size, lambda_=population_size, cxpb=0.7, mutpb=0.3, ngen=num_generations, verbose=True)\n",
        "\n",
        "    best_individual = tools.selBest(population, k=1)[0]\n",
        "    best_learning_rate, best_num_neurons = best_individual\n",
        "\n",
        "    print(f\"Best Learning Rate: {best_learning_rate}\")\n",
        "    print(f\"Best Number of Neurons: {best_num_neurons}\")\n"
      ],
      "metadata": {
        "colab": {
          "base_uri": "https://localhost:8080/"
        },
        "id": "fwfQDGy3LHTL",
        "outputId": "bd7c35ef-cf9d-43aa-b368-caac1067e206"
      },
      "execution_count": null,
      "outputs": [
        {
          "output_type": "stream",
          "name": "stderr",
          "text": [
            "/usr/local/lib/python3.10/dist-packages/deap/creator.py:185: RuntimeWarning: A class named 'FitnessMin' has already been created and it will be overwritten. Consider deleting previous creation of that class or rename it.\n",
            "  warnings.warn(\"A class named '{0}' has already been created and it \"\n",
            "/usr/local/lib/python3.10/dist-packages/deap/creator.py:185: RuntimeWarning: A class named 'Individual' has already been created and it will be overwritten. Consider deleting previous creation of that class or rename it.\n",
            "  warnings.warn(\"A class named '{0}' has already been created and it \"\n"
          ]
        },
        {
          "output_type": "stream",
          "name": "stdout",
          "text": [
            "gen\tnevals\n",
            "0  \t10    \n",
            "1  \t10    \n",
            "2  \t10    \n",
            "3  \t10    \n",
            "4  \t10    \n",
            "5  \t10    \n",
            "6  \t10    \n",
            "7  \t10    \n",
            "8  \t10    \n",
            "9  \t10    \n",
            "10 \t10    \n",
            "Best Learning Rate: 0.04847715655152535\n",
            "Best Number of Neurons: 96.50813405234672\n"
          ]
        }
      ]
    },
    {
      "cell_type": "code",
      "source": [
        "import numpy as np\n",
        "import pandas as pd\n",
        "from sklearn.model_selection import train_test_split\n",
        "from sklearn.preprocessing import MinMaxScaler\n",
        "from tensorflow.keras.models import Sequential\n",
        "from tensorflow.keras.layers import Dense\n",
        "from tensorflow.keras.optimizers import Adam\n",
        "\n",
        "# Load your dataset (assuming it's in a CSV file)\n",
        "df = pd.read_csv('/content/nep1 (3).csv')\n",
        "\n",
        "# Extract features (temperature, humidity, precipitation, solar radiation) and target (influenza confirmed cases)\n",
        "X = df[['tem', 'hum', 'pre', 'rad']].values\n",
        "y = df['ConfirmedCases'].values\n",
        "\n",
        "# Normalize features to the range [0, 1] using Min-Max scaling\n",
        "scaler = MinMaxScaler()\n",
        "X = scaler.fit_transform(X)\n",
        "\n",
        "# Split the data into training and testing sets\n",
        "X_train, X_test, y_train, y_test = train_test_split(X, y, test_size=0.2, random_state=42)\n",
        "\n",
        "# Best hyperparameters obtained from the genetic algorithm\n",
        "best_learning_rate = 0.05  # Replace with the best learning rate from your optimization\n",
        "best_num_neurons = 96  # Replace with the best number of neurons from your optimization\n",
        "\n",
        "# Create a sequential neural network model with the best parameters\n",
        "model = Sequential()\n",
        "\n",
        "# Add input layer and hidden layers\n",
        "model.add(Dense(best_num_neurons, activation='relu', input_shape=(X_train.shape[1],)))\n",
        "model.add(Dense(32, activation='relu'))\n",
        "model.add(Dense(16, activation='linear'))\n",
        "\n",
        "# Add the output layer (1 neuron for regression)\n",
        "model.add(Dense(1, activation='linear'))\n",
        "\n",
        "# Compile the model with the best learning rate\n",
        "model.compile(optimizer=Adam(learning_rate=best_learning_rate), loss='mean_squared_error')\n",
        "\n",
        "# Train the model on the entire training dataset\n",
        "model.fit(X_train, y_train, epochs=100, batch_size=32)\n",
        "\n",
        "# Make predictions on the test set\n",
        "y_pred = model.predict(X_test)\n",
        "\n",
        "from sklearn.metrics import mean_squared_error\n",
        "import numpy as np\n",
        "\n",
        "# Calculate RMSE\n",
        "rmse = np.sqrt(mean_squared_error(y_test, y_pred))\n",
        "print(f'RMSE: {rmse}')\n",
        "\n"
      ],
      "metadata": {
        "colab": {
          "base_uri": "https://localhost:8080/"
        },
        "id": "Y2cDsv7ANSuM",
        "outputId": "da9cd597-fb03-42bf-83b9-c054637a0866"
      },
      "execution_count": null,
      "outputs": [
        {
          "output_type": "stream",
          "name": "stdout",
          "text": [
            "Epoch 1/100\n",
            "4/4 [==============================] - 1s 5ms/step - loss: 34802.9688\n",
            "Epoch 2/100\n",
            "4/4 [==============================] - 0s 4ms/step - loss: 27515.7910\n",
            "Epoch 3/100\n",
            "4/4 [==============================] - 0s 4ms/step - loss: 27027.3301\n",
            "Epoch 4/100\n",
            "4/4 [==============================] - 0s 5ms/step - loss: 25620.8125\n",
            "Epoch 5/100\n",
            "4/4 [==============================] - 0s 5ms/step - loss: 28692.2168\n",
            "Epoch 6/100\n",
            "4/4 [==============================] - 0s 5ms/step - loss: 26209.5488\n",
            "Epoch 7/100\n",
            "4/4 [==============================] - 0s 6ms/step - loss: 28759.3633\n",
            "Epoch 8/100\n",
            "4/4 [==============================] - 0s 4ms/step - loss: 25723.4453\n",
            "Epoch 9/100\n",
            "4/4 [==============================] - 0s 5ms/step - loss: 26734.5332\n",
            "Epoch 10/100\n",
            "4/4 [==============================] - 0s 5ms/step - loss: 24020.4023\n",
            "Epoch 11/100\n",
            "4/4 [==============================] - 0s 5ms/step - loss: 25966.2871\n",
            "Epoch 12/100\n",
            "4/4 [==============================] - 0s 4ms/step - loss: 24541.3359\n",
            "Epoch 13/100\n",
            "4/4 [==============================] - 0s 4ms/step - loss: 25186.4961\n",
            "Epoch 14/100\n",
            "4/4 [==============================] - 0s 4ms/step - loss: 25318.1934\n",
            "Epoch 15/100\n",
            "4/4 [==============================] - 0s 4ms/step - loss: 25002.5117\n",
            "Epoch 16/100\n",
            "4/4 [==============================] - 0s 4ms/step - loss: 26220.6758\n",
            "Epoch 17/100\n",
            "4/4 [==============================] - 0s 5ms/step - loss: 24135.9980\n",
            "Epoch 18/100\n",
            "4/4 [==============================] - 0s 4ms/step - loss: 24833.5508\n",
            "Epoch 19/100\n",
            "4/4 [==============================] - 0s 4ms/step - loss: 23873.7559\n",
            "Epoch 20/100\n",
            "4/4 [==============================] - 0s 4ms/step - loss: 24640.8340\n",
            "Epoch 21/100\n",
            "4/4 [==============================] - 0s 5ms/step - loss: 23934.9375\n",
            "Epoch 22/100\n",
            "4/4 [==============================] - 0s 4ms/step - loss: 24635.9746\n",
            "Epoch 23/100\n",
            "4/4 [==============================] - 0s 4ms/step - loss: 23588.2949\n",
            "Epoch 24/100\n",
            "4/4 [==============================] - 0s 4ms/step - loss: 24564.1250\n",
            "Epoch 25/100\n",
            "4/4 [==============================] - 0s 4ms/step - loss: 23854.3828\n",
            "Epoch 26/100\n",
            "4/4 [==============================] - 0s 5ms/step - loss: 23864.2793\n",
            "Epoch 27/100\n",
            "4/4 [==============================] - 0s 3ms/step - loss: 24859.3184\n",
            "Epoch 28/100\n",
            "4/4 [==============================] - 0s 3ms/step - loss: 22994.1758\n",
            "Epoch 29/100\n",
            "4/4 [==============================] - 0s 3ms/step - loss: 24555.3359\n",
            "Epoch 30/100\n",
            "4/4 [==============================] - 0s 3ms/step - loss: 24119.1797\n",
            "Epoch 31/100\n",
            "4/4 [==============================] - 0s 4ms/step - loss: 24029.7305\n",
            "Epoch 32/100\n",
            "4/4 [==============================] - 0s 3ms/step - loss: 23625.9590\n",
            "Epoch 33/100\n",
            "4/4 [==============================] - 0s 3ms/step - loss: 24604.8203\n",
            "Epoch 34/100\n",
            "4/4 [==============================] - 0s 4ms/step - loss: 24276.0977\n",
            "Epoch 35/100\n",
            "4/4 [==============================] - 0s 4ms/step - loss: 24077.1523\n",
            "Epoch 36/100\n",
            "4/4 [==============================] - 0s 5ms/step - loss: 23615.9492\n",
            "Epoch 37/100\n",
            "4/4 [==============================] - 0s 6ms/step - loss: 23559.2246\n",
            "Epoch 38/100\n",
            "4/4 [==============================] - 0s 5ms/step - loss: 23355.6289\n",
            "Epoch 39/100\n",
            "4/4 [==============================] - 0s 4ms/step - loss: 24593.8457\n",
            "Epoch 40/100\n",
            "4/4 [==============================] - 0s 4ms/step - loss: 23464.7070\n",
            "Epoch 41/100\n",
            "4/4 [==============================] - 0s 5ms/step - loss: 23893.6816\n",
            "Epoch 42/100\n",
            "4/4 [==============================] - 0s 4ms/step - loss: 23274.8711\n",
            "Epoch 43/100\n",
            "4/4 [==============================] - 0s 4ms/step - loss: 24372.4648\n",
            "Epoch 44/100\n",
            "4/4 [==============================] - 0s 5ms/step - loss: 23741.2930\n",
            "Epoch 45/100\n",
            "4/4 [==============================] - 0s 5ms/step - loss: 24021.3555\n",
            "Epoch 46/100\n",
            "4/4 [==============================] - 0s 4ms/step - loss: 24494.2773\n",
            "Epoch 47/100\n",
            "4/4 [==============================] - 0s 4ms/step - loss: 23477.3242\n",
            "Epoch 48/100\n",
            "4/4 [==============================] - 0s 4ms/step - loss: 24031.3242\n",
            "Epoch 49/100\n",
            "4/4 [==============================] - 0s 5ms/step - loss: 23312.5176\n",
            "Epoch 50/100\n",
            "4/4 [==============================] - 0s 7ms/step - loss: 22990.3672\n",
            "Epoch 51/100\n",
            "4/4 [==============================] - 0s 5ms/step - loss: 23876.2676\n",
            "Epoch 52/100\n",
            "4/4 [==============================] - 0s 3ms/step - loss: 23294.9980\n",
            "Epoch 53/100\n",
            "4/4 [==============================] - 0s 6ms/step - loss: 23477.4551\n",
            "Epoch 54/100\n",
            "4/4 [==============================] - 0s 5ms/step - loss: 22704.0879\n",
            "Epoch 55/100\n",
            "4/4 [==============================] - 0s 5ms/step - loss: 23126.5645\n",
            "Epoch 56/100\n",
            "4/4 [==============================] - 0s 6ms/step - loss: 23132.9199\n",
            "Epoch 57/100\n",
            "4/4 [==============================] - 0s 8ms/step - loss: 23074.6328\n",
            "Epoch 58/100\n",
            "4/4 [==============================] - 0s 3ms/step - loss: 23080.6113\n",
            "Epoch 59/100\n",
            "4/4 [==============================] - 0s 2ms/step - loss: 22854.8906\n",
            "Epoch 60/100\n",
            "4/4 [==============================] - 0s 3ms/step - loss: 23287.1309\n",
            "Epoch 61/100\n",
            "4/4 [==============================] - 0s 3ms/step - loss: 24890.2715\n",
            "Epoch 62/100\n",
            "4/4 [==============================] - 0s 2ms/step - loss: 22790.8301\n",
            "Epoch 63/100\n",
            "4/4 [==============================] - 0s 2ms/step - loss: 22959.0039\n",
            "Epoch 64/100\n",
            "4/4 [==============================] - 0s 2ms/step - loss: 23087.4570\n",
            "Epoch 65/100\n",
            "4/4 [==============================] - 0s 3ms/step - loss: 24545.3418\n",
            "Epoch 66/100\n",
            "4/4 [==============================] - 0s 2ms/step - loss: 23310.8340\n",
            "Epoch 67/100\n",
            "4/4 [==============================] - 0s 2ms/step - loss: 24053.8242\n",
            "Epoch 68/100\n",
            "4/4 [==============================] - 0s 2ms/step - loss: 22851.8398\n",
            "Epoch 69/100\n",
            "4/4 [==============================] - 0s 2ms/step - loss: 22516.8145\n",
            "Epoch 70/100\n",
            "4/4 [==============================] - 0s 2ms/step - loss: 23677.7734\n",
            "Epoch 71/100\n",
            "4/4 [==============================] - 0s 6ms/step - loss: 22552.2871\n",
            "Epoch 72/100\n",
            "4/4 [==============================] - 0s 3ms/step - loss: 23510.9551\n",
            "Epoch 73/100\n",
            "4/4 [==============================] - 0s 4ms/step - loss: 23222.0430\n",
            "Epoch 74/100\n",
            "4/4 [==============================] - 0s 3ms/step - loss: 22495.6953\n",
            "Epoch 75/100\n",
            "4/4 [==============================] - 0s 3ms/step - loss: 22723.7227\n",
            "Epoch 76/100\n",
            "4/4 [==============================] - 0s 3ms/step - loss: 22697.9141\n",
            "Epoch 77/100\n",
            "4/4 [==============================] - 0s 3ms/step - loss: 23749.2051\n",
            "Epoch 78/100\n",
            "4/4 [==============================] - 0s 3ms/step - loss: 23068.8164\n",
            "Epoch 79/100\n",
            "4/4 [==============================] - 0s 3ms/step - loss: 23480.6289\n",
            "Epoch 80/100\n",
            "4/4 [==============================] - 0s 3ms/step - loss: 22733.0820\n",
            "Epoch 81/100\n",
            "4/4 [==============================] - 0s 2ms/step - loss: 22923.1211\n",
            "Epoch 82/100\n",
            "4/4 [==============================] - 0s 2ms/step - loss: 22179.5156\n",
            "Epoch 83/100\n",
            "4/4 [==============================] - 0s 2ms/step - loss: 22809.5605\n",
            "Epoch 84/100\n",
            "4/4 [==============================] - 0s 3ms/step - loss: 22528.7207\n",
            "Epoch 85/100\n",
            "4/4 [==============================] - 0s 2ms/step - loss: 22585.2207\n",
            "Epoch 86/100\n",
            "4/4 [==============================] - 0s 3ms/step - loss: 22714.5352\n",
            "Epoch 87/100\n",
            "4/4 [==============================] - 0s 3ms/step - loss: 23311.8555\n",
            "Epoch 88/100\n",
            "4/4 [==============================] - 0s 3ms/step - loss: 23083.0273\n",
            "Epoch 89/100\n",
            "4/4 [==============================] - 0s 3ms/step - loss: 22532.3262\n",
            "Epoch 90/100\n",
            "4/4 [==============================] - 0s 3ms/step - loss: 22618.7012\n",
            "Epoch 91/100\n",
            "4/4 [==============================] - 0s 3ms/step - loss: 22657.9355\n",
            "Epoch 92/100\n",
            "4/4 [==============================] - 0s 2ms/step - loss: 22479.9102\n",
            "Epoch 93/100\n",
            "4/4 [==============================] - 0s 2ms/step - loss: 22584.1992\n",
            "Epoch 94/100\n",
            "4/4 [==============================] - 0s 3ms/step - loss: 22824.0195\n",
            "Epoch 95/100\n",
            "4/4 [==============================] - 0s 3ms/step - loss: 22172.8828\n",
            "Epoch 96/100\n",
            "4/4 [==============================] - 0s 2ms/step - loss: 22844.3809\n",
            "Epoch 97/100\n",
            "4/4 [==============================] - 0s 3ms/step - loss: 22771.1543\n",
            "Epoch 98/100\n",
            "4/4 [==============================] - 0s 3ms/step - loss: 23172.2637\n",
            "Epoch 99/100\n",
            "4/4 [==============================] - 0s 3ms/step - loss: 22977.9824\n",
            "Epoch 100/100\n",
            "4/4 [==============================] - 0s 2ms/step - loss: 23058.3105\n",
            "1/1 [==============================] - 0s 60ms/step\n",
            "RMSE: 172.03716150619573\n"
          ]
        }
      ]
    },
    {
      "cell_type": "code",
      "source": [
        "from sklearn.metrics import mean_absolute_error\n",
        "import numpy as np\n",
        "\n",
        "def calculate_mape(y_true, y_pred):\n",
        "    \"\"\"\n",
        "    Calculate Mean Absolute Percentage Error (MAPE).\n",
        "\n",
        "    Parameters:\n",
        "        y_true (numpy array): True values.\n",
        "        y_pred (numpy array): Predicted values.\n",
        "\n",
        "    Returns:\n",
        "        float: MAPE in percentage notation.\n",
        "    \"\"\"\n",
        "    # Calculate the MAE (Mean Absolute Error)\n",
        "    mae = mean_absolute_error(y_true, y_pred)\n",
        "\n",
        "    # Calculate the MAPE\n",
        "    mape = (mae / np.mean(y_true)) * 100\n",
        "\n",
        "    return mape\n",
        "\n",
        "mape_result = calculate_mape(y_test,y_pred)\n",
        "print(f\"MAPE: {mape_result:.2f}%\")"
      ],
      "metadata": {
        "colab": {
          "base_uri": "https://localhost:8080/"
        },
        "id": "ejRxkJZqOHTa",
        "outputId": "7df0ff0c-1204-4056-97a0-d816d5afeb04"
      },
      "execution_count": null,
      "outputs": [
        {
          "output_type": "stream",
          "name": "stdout",
          "text": [
            "MAPE: 120.12%\n"
          ]
        }
      ]
    },
    {
      "cell_type": "markdown",
      "source": [
        "# GA-BPNN 3 param"
      ],
      "metadata": {
        "id": "K_8OB08g2IMq"
      }
    },
    {
      "cell_type": "code",
      "source": [
        "import numpy as np\n",
        "import pandas as pd\n",
        "from sklearn.model_selection import train_test_split\n",
        "from sklearn.preprocessing import MinMaxScaler\n",
        "from tensorflow.keras.models import Sequential\n",
        "from tensorflow.keras.layers import Dense\n",
        "from tensorflow.keras.optimizers import Adam\n",
        "from deap import base, creator, tools, algorithms\n",
        "\n",
        "# Load your dataset (assuming it's in a CSV file)\n",
        "df = pd.read_csv('/content/drive/MyDrive/IDO/IDO BASIC/Sri.csv')\n",
        "\n",
        "# Extract features (temperature, humidity, precipitation, solar radiation) and target (influenza confirmed cases)\n",
        "X = df[['tem', 'hum', 'pre', 'rad']].values\n",
        "y = df['ConfirmedCases'].values\n",
        "\n",
        "# Normalize features to the range [0, 1] using Min-Max scaling\n",
        "scaler = MinMaxScaler()\n",
        "X = scaler.fit_transform(X)\n",
        "\n",
        "# Split the data into training and testing sets\n",
        "X_train, X_test, y_train, y_test = train_test_split(X, y, test_size=0.2, random_state=42)\n",
        "\n",
        "# Define a fitness function to optimize\n",
        "def fitness_function(individual):\n",
        "    learning_rate, num_neurons, activation_func = individual\n",
        "    model = Sequential()\n",
        "    model.add(Dense(num_neurons, activation=activation_func, input_shape=(X_train.shape[1],)))\n",
        "    model.add(Dense(32, activation=activation_func))\n",
        "    model.add(Dense(16, activation='linear'))\n",
        "    model.add(Dense(1, activation='linear'))\n",
        "    optimizer = Adam(learning_rate=learning_rate)\n",
        "    model.compile(optimizer=optimizer, loss='mean_squared_error')\n",
        "    history = model.fit(X_train, y_train, epochs=100, batch_size=32, validation_split=0.2, verbose=0)\n",
        "    loss = model.evaluate(X_test, y_test, verbose=0)\n",
        "    return loss,\n",
        "\n",
        "# Define the genetic algorithm parameters\n",
        "creator.create(\"FitnessMin\", base.Fitness, weights=(-1.0,))\n",
        "creator.create(\"Individual\", list, fitness=creator.FitnessMin)\n",
        "\n",
        "toolbox = base.Toolbox()\n",
        "toolbox.register(\"attr_float\", np.random.uniform, 0.0001, 0.1)  # Learning rate\n",
        "toolbox.register(\"attr_int\", np.random.randint, 8, 128)  # Number of neurons\n",
        "activation_functions = ['relu', 'sigmoid', 'tanh', 'linear']  # Define the activation functions you want to optimize\n",
        "toolbox.register(\"attr_activation\", np.random.choice, activation_functions)  # Activation function\n",
        "toolbox.register(\"individual\", tools.initCycle, creator.Individual, (toolbox.attr_float, toolbox.attr_int, toolbox.attr_activation), n=1)\n",
        "toolbox.register(\"population\", tools.initRepeat, list, toolbox.individual)\n",
        "\n",
        "toolbox.register(\"evaluate\", fitness_function)\n",
        "toolbox.register(\"mate\", tools.cxBlend, alpha=0.5)\n",
        "toolbox.register(\"mutate\", tools.mutGaussian, mu=0, sigma=0.1, indpb=0.2)\n",
        "toolbox.register(\"select\", tools.selTournament, tournsize=3)\n",
        "\n",
        "if __name__ == \"__main__\":\n",
        "    population_size = 10\n",
        "    num_generations = 10\n",
        "\n",
        "    population = toolbox.population(n=population_size)\n",
        "    #algorithms.eaMuPlusLambda(population, toolbox, mu=population_size, lambda_=population_size, cxpb=0.7, mutpb=0.3, ngen=num_generations, verbose=True)\n",
        "\n",
        "    best_individual = tools.selBest(population, k=1)[0]\n",
        "    best_learning_rate, best_num_neurons, best_activation_func = best_individual\n",
        "\n",
        "    print(f\"Best Learning Rate: {best_learning_rate}\")\n",
        "    print(f\"Best Number of Neurons: {best_num_neurons}\")\n",
        "    print(f\"Best Activation Function: {best_activation_func}\")\n"
      ],
      "metadata": {
        "colab": {
          "base_uri": "https://localhost:8080/"
        },
        "id": "cJTC_gkt2NPi",
        "outputId": "0b63f8c3-b58b-41f5-ac87-83c48c9c49b4"
      },
      "execution_count": null,
      "outputs": [
        {
          "output_type": "stream",
          "name": "stdout",
          "text": [
            "Best Learning Rate: 0.0271053752745309\n",
            "Best Number of Neurons: 77\n",
            "Best Activation Function: relu\n"
          ]
        },
        {
          "output_type": "stream",
          "name": "stderr",
          "text": [
            "/usr/local/lib/python3.10/dist-packages/deap/creator.py:185: RuntimeWarning: A class named 'FitnessMin' has already been created and it will be overwritten. Consider deleting previous creation of that class or rename it.\n",
            "  warnings.warn(\"A class named '{0}' has already been created and it \"\n",
            "/usr/local/lib/python3.10/dist-packages/deap/creator.py:185: RuntimeWarning: A class named 'Individual' has already been created and it will be overwritten. Consider deleting previous creation of that class or rename it.\n",
            "  warnings.warn(\"A class named '{0}' has already been created and it \"\n"
          ]
        }
      ]
    },
    {
      "cell_type": "code",
      "source": [
        "test_size = 12  # Assuming you want to use the last 12 rows for testing\n",
        "\n",
        "X_train = X[:-test_size]  # All rows except the last 12 for training\n",
        "X_test = X[-test_size:]   # Last 12 rows for testing\n",
        "\n",
        "y_train = y[:-test_size]  # Corresponding target values for training\n",
        "y_test = y[-test_size:]   # Corresponding target values for testing\n",
        "\n",
        "len(y_test)"
      ],
      "metadata": {
        "colab": {
          "base_uri": "https://localhost:8080/"
        },
        "id": "rKbI8jcTWy96",
        "outputId": "5011f14b-3662-4899-d596-b49c1925dd35"
      },
      "execution_count": null,
      "outputs": [
        {
          "output_type": "execute_result",
          "data": {
            "text/plain": [
              "12"
            ]
          },
          "metadata": {},
          "execution_count": 201
        }
      ]
    },
    {
      "cell_type": "code",
      "source": [
        "\n",
        "# Normalize features to the range [0, 1] using Min-Max scaling\n",
        "scaler = MinMaxScaler()\n",
        "X = scaler.fit_transform(X)\n",
        "\n",
        "# Best hyperparameters obtained from the genetic algorithm\n",
        "best_learning_rate = 0.02  # Replace with the best learning rate from your optimization\n",
        "best_num_neurons = 77  # Replace with the best number of neurons from your optimization\n",
        "\n",
        "# Create a sequential neural network model with the best parameters\n",
        "model = Sequential()\n",
        "\n",
        "# Add input layer and hidden layers\n",
        "model.add(Dense(best_num_neurons, activation='linear', input_shape=(X_train.shape[1],)))\n",
        "model.add(Dense(32, activation='linear'))\n",
        "model.add(Dense(16, activation='linear'))\n",
        "\n",
        "# Add the output layer (1 neuron for regression)\n",
        "model.add(Dense(1, activation='relu'))\n",
        "\n",
        "# Compile the model with the best learning rate\n",
        "model.compile(optimizer=Adam(learning_rate=best_learning_rate), loss='mean_squared_error')\n",
        "\n",
        "# Train the model on the entire training dataset\n",
        "model.fit(X_train, y_train, epochs=100, batch_size=32)\n",
        "\n",
        "# Make predictions on the test set\n",
        "y_pred = model.predict(X_test)\n",
        "\n",
        "from sklearn.metrics import mean_squared_error, mean_absolute_percentage_error\n",
        "import numpy as np\n",
        "\n",
        "# Calculate RMSE\n",
        "rmse = np.sqrt(mean_squared_error(y_test, y_pred))\n",
        "print(f'RMSE: {rmse}')\n"
      ],
      "metadata": {
        "colab": {
          "base_uri": "https://localhost:8080/"
        },
        "id": "fshpegz-3A2c",
        "outputId": "125224e0-880b-4286-c245-dcaaae33fc2f"
      },
      "execution_count": null,
      "outputs": [
        {
          "output_type": "stream",
          "name": "stdout",
          "text": [
            "Epoch 1/100\n",
            "5/5 [==============================] - 1s 2ms/step - loss: 14005.1279\n",
            "Epoch 2/100\n",
            "5/5 [==============================] - 0s 2ms/step - loss: 11849.5430\n",
            "Epoch 3/100\n",
            "5/5 [==============================] - 0s 2ms/step - loss: 10870.4531\n",
            "Epoch 4/100\n",
            "5/5 [==============================] - 0s 2ms/step - loss: 11418.9326\n",
            "Epoch 5/100\n",
            "5/5 [==============================] - 0s 2ms/step - loss: 11055.1387\n",
            "Epoch 6/100\n",
            "5/5 [==============================] - 0s 2ms/step - loss: 11109.5020\n",
            "Epoch 7/100\n",
            "5/5 [==============================] - 0s 2ms/step - loss: 10932.8965\n",
            "Epoch 8/100\n",
            "5/5 [==============================] - 0s 2ms/step - loss: 11023.7607\n",
            "Epoch 9/100\n",
            "5/5 [==============================] - 0s 2ms/step - loss: 11007.1348\n",
            "Epoch 10/100\n",
            "5/5 [==============================] - 0s 2ms/step - loss: 10950.1436\n",
            "Epoch 11/100\n",
            "5/5 [==============================] - 0s 2ms/step - loss: 11073.7031\n",
            "Epoch 12/100\n",
            "5/5 [==============================] - 0s 2ms/step - loss: 10995.6924\n",
            "Epoch 13/100\n",
            "5/5 [==============================] - 0s 2ms/step - loss: 11114.5186\n",
            "Epoch 14/100\n",
            "5/5 [==============================] - 0s 2ms/step - loss: 10870.2275\n",
            "Epoch 15/100\n",
            "5/5 [==============================] - 0s 3ms/step - loss: 10891.1475\n",
            "Epoch 16/100\n",
            "5/5 [==============================] - 0s 2ms/step - loss: 10893.7705\n",
            "Epoch 17/100\n",
            "5/5 [==============================] - 0s 2ms/step - loss: 10945.3154\n",
            "Epoch 18/100\n",
            "5/5 [==============================] - 0s 2ms/step - loss: 10863.3926\n",
            "Epoch 19/100\n",
            "5/5 [==============================] - 0s 2ms/step - loss: 10936.8271\n",
            "Epoch 20/100\n",
            "5/5 [==============================] - 0s 2ms/step - loss: 10880.2188\n",
            "Epoch 21/100\n",
            "5/5 [==============================] - 0s 2ms/step - loss: 10858.3486\n",
            "Epoch 22/100\n",
            "5/5 [==============================] - 0s 2ms/step - loss: 10891.9482\n",
            "Epoch 23/100\n",
            "5/5 [==============================] - 0s 2ms/step - loss: 11120.9297\n",
            "Epoch 24/100\n",
            "5/5 [==============================] - 0s 2ms/step - loss: 10879.1865\n",
            "Epoch 25/100\n",
            "5/5 [==============================] - 0s 2ms/step - loss: 10954.5986\n",
            "Epoch 26/100\n",
            "5/5 [==============================] - 0s 2ms/step - loss: 11179.5566\n",
            "Epoch 27/100\n",
            "5/5 [==============================] - 0s 2ms/step - loss: 10800.8262\n",
            "Epoch 28/100\n",
            "5/5 [==============================] - 0s 2ms/step - loss: 10970.0244\n",
            "Epoch 29/100\n",
            "5/5 [==============================] - 0s 2ms/step - loss: 10889.1152\n",
            "Epoch 30/100\n",
            "5/5 [==============================] - 0s 2ms/step - loss: 10842.5908\n",
            "Epoch 31/100\n",
            "5/5 [==============================] - 0s 2ms/step - loss: 11047.0381\n",
            "Epoch 32/100\n",
            "5/5 [==============================] - 0s 2ms/step - loss: 11062.6670\n",
            "Epoch 33/100\n",
            "5/5 [==============================] - 0s 2ms/step - loss: 10920.8340\n",
            "Epoch 34/100\n",
            "5/5 [==============================] - 0s 2ms/step - loss: 10970.8340\n",
            "Epoch 35/100\n",
            "5/5 [==============================] - 0s 2ms/step - loss: 11159.6943\n",
            "Epoch 36/100\n",
            "5/5 [==============================] - 0s 2ms/step - loss: 10992.7012\n",
            "Epoch 37/100\n",
            "5/5 [==============================] - 0s 2ms/step - loss: 10973.8799\n",
            "Epoch 38/100\n",
            "5/5 [==============================] - 0s 2ms/step - loss: 10832.7910\n",
            "Epoch 39/100\n",
            "5/5 [==============================] - 0s 2ms/step - loss: 10861.3877\n",
            "Epoch 40/100\n",
            "5/5 [==============================] - 0s 2ms/step - loss: 10993.1650\n",
            "Epoch 41/100\n",
            "5/5 [==============================] - 0s 2ms/step - loss: 10985.6621\n",
            "Epoch 42/100\n",
            "5/5 [==============================] - 0s 2ms/step - loss: 10855.8066\n",
            "Epoch 43/100\n",
            "5/5 [==============================] - 0s 2ms/step - loss: 10993.2822\n",
            "Epoch 44/100\n",
            "5/5 [==============================] - 0s 2ms/step - loss: 10906.8564\n",
            "Epoch 45/100\n",
            "5/5 [==============================] - 0s 2ms/step - loss: 10884.2842\n",
            "Epoch 46/100\n",
            "5/5 [==============================] - 0s 2ms/step - loss: 10924.2402\n",
            "Epoch 47/100\n",
            "5/5 [==============================] - 0s 2ms/step - loss: 10947.4512\n",
            "Epoch 48/100\n",
            "5/5 [==============================] - 0s 2ms/step - loss: 11100.2539\n",
            "Epoch 49/100\n",
            "5/5 [==============================] - 0s 2ms/step - loss: 11012.8018\n",
            "Epoch 50/100\n",
            "5/5 [==============================] - 0s 2ms/step - loss: 10958.9375\n",
            "Epoch 51/100\n",
            "5/5 [==============================] - 0s 2ms/step - loss: 10853.9307\n",
            "Epoch 52/100\n",
            "5/5 [==============================] - 0s 2ms/step - loss: 10913.5342\n",
            "Epoch 53/100\n",
            "5/5 [==============================] - 0s 2ms/step - loss: 10949.7734\n",
            "Epoch 54/100\n",
            "5/5 [==============================] - 0s 2ms/step - loss: 10905.0215\n",
            "Epoch 55/100\n",
            "5/5 [==============================] - 0s 2ms/step - loss: 10946.4170\n",
            "Epoch 56/100\n",
            "5/5 [==============================] - 0s 2ms/step - loss: 10988.9121\n",
            "Epoch 57/100\n",
            "5/5 [==============================] - 0s 2ms/step - loss: 10904.6777\n",
            "Epoch 58/100\n",
            "5/5 [==============================] - 0s 2ms/step - loss: 11029.0645\n",
            "Epoch 59/100\n",
            "5/5 [==============================] - 0s 2ms/step - loss: 11031.6475\n",
            "Epoch 60/100\n",
            "5/5 [==============================] - 0s 2ms/step - loss: 10940.9639\n",
            "Epoch 61/100\n",
            "5/5 [==============================] - 0s 2ms/step - loss: 10816.5332\n",
            "Epoch 62/100\n",
            "5/5 [==============================] - 0s 2ms/step - loss: 10985.8389\n",
            "Epoch 63/100\n",
            "5/5 [==============================] - 0s 2ms/step - loss: 10849.8311\n",
            "Epoch 64/100\n",
            "5/5 [==============================] - 0s 2ms/step - loss: 10872.9404\n",
            "Epoch 65/100\n",
            "5/5 [==============================] - 0s 2ms/step - loss: 10924.4160\n",
            "Epoch 66/100\n",
            "5/5 [==============================] - 0s 2ms/step - loss: 10904.1426\n",
            "Epoch 67/100\n",
            "5/5 [==============================] - 0s 2ms/step - loss: 10851.1523\n",
            "Epoch 68/100\n",
            "5/5 [==============================] - 0s 2ms/step - loss: 10824.0752\n",
            "Epoch 69/100\n",
            "5/5 [==============================] - 0s 2ms/step - loss: 10931.5342\n",
            "Epoch 70/100\n",
            "5/5 [==============================] - 0s 2ms/step - loss: 11010.9482\n",
            "Epoch 71/100\n",
            "5/5 [==============================] - 0s 2ms/step - loss: 10881.6660\n",
            "Epoch 72/100\n",
            "5/5 [==============================] - 0s 2ms/step - loss: 10954.7705\n",
            "Epoch 73/100\n",
            "5/5 [==============================] - 0s 2ms/step - loss: 10866.9014\n",
            "Epoch 74/100\n",
            "5/5 [==============================] - 0s 2ms/step - loss: 10851.8203\n",
            "Epoch 75/100\n",
            "5/5 [==============================] - 0s 2ms/step - loss: 10867.6826\n",
            "Epoch 76/100\n",
            "5/5 [==============================] - 0s 2ms/step - loss: 10829.7920\n",
            "Epoch 77/100\n",
            "5/5 [==============================] - 0s 2ms/step - loss: 10841.3984\n",
            "Epoch 78/100\n",
            "5/5 [==============================] - 0s 3ms/step - loss: 10948.0879\n",
            "Epoch 79/100\n",
            "5/5 [==============================] - 0s 3ms/step - loss: 10865.1230\n",
            "Epoch 80/100\n",
            "5/5 [==============================] - 0s 2ms/step - loss: 11135.5039\n",
            "Epoch 81/100\n",
            "5/5 [==============================] - 0s 2ms/step - loss: 10784.9160\n",
            "Epoch 82/100\n",
            "5/5 [==============================] - 0s 2ms/step - loss: 11100.8750\n",
            "Epoch 83/100\n",
            "5/5 [==============================] - 0s 2ms/step - loss: 10889.4121\n",
            "Epoch 84/100\n",
            "5/5 [==============================] - 0s 2ms/step - loss: 10970.5068\n",
            "Epoch 85/100\n",
            "5/5 [==============================] - 0s 2ms/step - loss: 10866.5986\n",
            "Epoch 86/100\n",
            "5/5 [==============================] - 0s 2ms/step - loss: 10930.8838\n",
            "Epoch 87/100\n",
            "5/5 [==============================] - 0s 2ms/step - loss: 10882.7988\n",
            "Epoch 88/100\n",
            "5/5 [==============================] - 0s 2ms/step - loss: 10858.8389\n",
            "Epoch 89/100\n",
            "5/5 [==============================] - 0s 2ms/step - loss: 10941.4590\n",
            "Epoch 90/100\n",
            "5/5 [==============================] - 0s 2ms/step - loss: 10953.6074\n",
            "Epoch 91/100\n",
            "5/5 [==============================] - 0s 2ms/step - loss: 10826.3623\n",
            "Epoch 92/100\n",
            "5/5 [==============================] - 0s 2ms/step - loss: 10930.9014\n",
            "Epoch 93/100\n",
            "5/5 [==============================] - 0s 2ms/step - loss: 11065.4912\n",
            "Epoch 94/100\n",
            "5/5 [==============================] - 0s 2ms/step - loss: 10799.5596\n",
            "Epoch 95/100\n",
            "5/5 [==============================] - 0s 2ms/step - loss: 10853.1445\n",
            "Epoch 96/100\n",
            "5/5 [==============================] - 0s 2ms/step - loss: 10868.4062\n",
            "Epoch 97/100\n",
            "5/5 [==============================] - 0s 3ms/step - loss: 10863.5410\n",
            "Epoch 98/100\n",
            "5/5 [==============================] - 0s 2ms/step - loss: 11015.3096\n",
            "Epoch 99/100\n",
            "5/5 [==============================] - 0s 2ms/step - loss: 10932.1348\n",
            "Epoch 100/100\n",
            "5/5 [==============================] - 0s 2ms/step - loss: 10952.7148\n",
            "1/1 [==============================] - 0s 44ms/step\n",
            "RMSE: 36.00392895259947\n"
          ]
        }
      ]
    },
    {
      "cell_type": "code",
      "source": [
        "y_pred1 = [element for row in y_pred for element in row]\n",
        "\n",
        "from sklearn.metrics import mean_absolute_error\n",
        "import numpy as np\n",
        "\n",
        "def calculate_mape(y_test, y_pred1):\n",
        "    \"\"\"\n",
        "    Calculate Mean Absolute Percentage Error (MAPE).\n",
        "\n",
        "    Parameters:\n",
        "        y_true (numpy array): True values.\n",
        "        y_pred (numpy array): Predicted values.\n",
        "\n",
        "    Returns:\n",
        "        float: MAPE in percentage notation.\n",
        "    \"\"\"\n",
        "    # Calculate the MAE (Mean Absolute Error)\n",
        "    mae = mean_absolute_error(y_test, y_pred1)\n",
        "\n",
        "    # Calculate the MAPE\n",
        "    mape = (mae / np.mean(y_test)) * 100\n",
        "\n",
        "    return mape\n",
        "\n",
        "mape_result = calculate_mape(y_test,y_pred1)\n",
        "print(f\"MAPE: {mape_result:.2f}%\")"
      ],
      "metadata": {
        "colab": {
          "base_uri": "https://localhost:8080/"
        },
        "id": "wvENswis3iPL",
        "outputId": "f97e9909-f76f-4d43-d9e2-1f78cfaae8da"
      },
      "execution_count": null,
      "outputs": [
        {
          "output_type": "stream",
          "name": "stdout",
          "text": [
            "MAPE: 83.94%\n"
          ]
        }
      ]
    },
    {
      "cell_type": "code",
      "source": [
        "y_pred1"
      ],
      "metadata": {
        "colab": {
          "base_uri": "https://localhost:8080/"
        },
        "id": "9wFmWK5IT1JY",
        "outputId": "16389beb-ac35-4302-8e5f-fec639a444de"
      },
      "execution_count": null,
      "outputs": [
        {
          "output_type": "execute_result",
          "data": {
            "text/plain": [
              "[53.47637,\n",
              " 59.774548,\n",
              " 53.645836,\n",
              " 66.97016,\n",
              " 68.03019,\n",
              " 66.93158,\n",
              " 62.9631,\n",
              " 64.77399,\n",
              " 69.33636,\n",
              " 69.05824,\n",
              " 62.45088,\n",
              " 48.068565]"
            ]
          },
          "metadata": {},
          "execution_count": 204
        }
      ]
    },
    {
      "cell_type": "code",
      "source": [
        "import matplotlib.pyplot as plt\n",
        "plt.plot(y_test)\n",
        "plt.plot(y_pred1)"
      ],
      "metadata": {
        "colab": {
          "base_uri": "https://localhost:8080/",
          "height": 448
        },
        "id": "Kf1jmlAAY3Mp",
        "outputId": "cbfdfe7d-9498-463b-cfab-1065b17742d3"
      },
      "execution_count": null,
      "outputs": [
        {
          "output_type": "execute_result",
          "data": {
            "text/plain": [
              "[<matplotlib.lines.Line2D at 0x7a0cf3b891b0>]"
            ]
          },
          "metadata": {},
          "execution_count": 206
        },
        {
          "output_type": "display_data",
          "data": {
            "text/plain": [
              "<Figure size 640x480 with 1 Axes>"
            ],
            "image/png": "[encoded data removed]"
          },
          "metadata": {}
        }
      ]
    },
    {
      "cell_type": "code",
      "source": [
        "import csv\n",
        "\n",
        "# Specify the file name for the CSV file\n",
        "output_file = \"/content/drive/MyDrive/IDO/sri_bpnn.csv\"\n",
        "\n",
        "# Open the CSV file in write mode\n",
        "with open(output_file, mode='w', newline='') as file:\n",
        "    # Create a CSV writer object\n",
        "    writer = csv.writer(file)\n",
        "\n",
        "    # Write the header if you have one\n",
        "    # writer.writerow([\"Prediction\"])  # Uncomment this line if you want a header\n",
        "\n",
        "    # Write each prediction to the CSV file\n",
        "    for p in y_pred1:\n",
        "        writer.writerow([p])\n",
        "\n",
        "print(f\"Predictions saved to {output_file}\")"
      ],
      "metadata": {
        "colab": {
          "base_uri": "https://localhost:8080/"
        },
        "id": "q0xyRUg_Y580",
        "outputId": "7745fbaf-4115-4a46-8743-2caecfbae202"
      },
      "execution_count": null,
      "outputs": [
        {
          "output_type": "stream",
          "name": "stdout",
          "text": [
            "Predictions saved to /content/drive/MyDrive/IDO/sri_bpnn.csv\n"
          ]
        }
      ]
    },
    {
      "cell_type": "code",
      "source": [],
      "metadata": {
        "id": "jnKmiMefZVIJ"
      },
      "execution_count": null,
      "outputs": []
    }
  ]
}